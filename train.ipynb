{
 "cells": [
  {
   "cell_type": "code",
   "execution_count": null,
   "metadata": {},
   "outputs": [],
   "source": [
    "!python yolov5-master/train.py --img 1024 --batch 8 --epochs 10 --data C:\\\\files\\DeepLearning\\dataset\\dataset.yaml --weights yolov5s.pt"
   ]
  }
 ],
 "metadata": {
  "language_info": {
   "name": "python"
  }
 },
 "nbformat": 4,
 "nbformat_minor": 2
}
